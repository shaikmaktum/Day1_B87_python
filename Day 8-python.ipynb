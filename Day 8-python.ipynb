{
 "cells": [
  {
   "cell_type": "code",
   "execution_count": null,
   "id": "13207fb9-3c43-49da-a9e1-cf878ed544c8",
   "metadata": {},
   "outputs": [],
   "source": [
    "# introduction to conditional statements"
   ]
  },
  {
   "cell_type": "code",
   "execution_count": null,
   "id": "13f168b9-6524-4c4d-9114-fffc64ae8838",
   "metadata": {},
   "outputs": [],
   "source": [
    "# if statements"
   ]
  },
  {
   "cell_type": "code",
   "execution_count": 1,
   "id": "00716511-579e-421c-b522-8381429818ea",
   "metadata": {},
   "outputs": [
    {
     "name": "stdout",
     "output_type": "stream",
     "text": [
      "['bmw', 'tata', 'suzuki', 'audi', 'toyata', 'benz', 'kia']\n"
     ]
    }
   ],
   "source": [
    "cars=['bmw','tata','suzuki','audi','toyata','benz','kia']\n",
    "print(cars)"
   ]
  },
  {
   "cell_type": "code",
   "execution_count": 2,
   "id": "e9267630-5d6e-4d88-a2e2-c7a512c3e7e6",
   "metadata": {},
   "outputs": [
    {
     "data": {
      "text/plain": [
       "list"
      ]
     },
     "execution_count": 2,
     "metadata": {},
     "output_type": "execute_result"
    }
   ],
   "source": [
    "type(cars)"
   ]
  },
  {
   "cell_type": "code",
   "execution_count": null,
   "id": "02bff536-b928-4d7a-83ea-0245de18a99f",
   "metadata": {},
   "outputs": [],
   "source": [
    "# i wnat suzuki in upper case and rest of all in title case"
   ]
  },
  {
   "cell_type": "code",
   "execution_count": 6,
   "id": "e4d11969-b6a8-4ea5-8841-e2b0905d3c53",
   "metadata": {},
   "outputs": [
    {
     "name": "stdout",
     "output_type": "stream",
     "text": [
      "Bmw\n",
      "Tata\n",
      "SUZUKI\n",
      "Audi\n",
      "Toyata\n",
      "Benz\n",
      "Kia\n"
     ]
    }
   ],
   "source": [
    "for a in cars:\n",
    "    if a=='suzuki':\n",
    "        print(a.upper())\n",
    "    else:\n",
    "        print(a.title())\n",
    "    "
   ]
  },
  {
   "cell_type": "code",
   "execution_count": null,
   "id": "12e3441b-9c35-4eaf-85b2-ebe217c60ecb",
   "metadata": {},
   "outputs": [],
   "source": [
    "# application for voting"
   ]
  },
  {
   "cell_type": "code",
   "execution_count": 7,
   "id": "bfa1b937-c0fe-48ac-9b4c-8709e6d85749",
   "metadata": {},
   "outputs": [],
   "source": [
    "age=19"
   ]
  },
  {
   "cell_type": "raw",
   "id": "20ba85df-1713-4e39-b4f9-7fdf0ac5c65e",
   "metadata": {},
   "source": [
    "type(age)"
   ]
  },
  {
   "cell_type": "code",
   "execution_count": 9,
   "id": "561d32d2-3f93-416b-95ba-af3c840e14d4",
   "metadata": {},
   "outputs": [
    {
     "name": "stdout",
     "output_type": "stream",
     "text": [
      "you are eligible to vote\n"
     ]
    }
   ],
   "source": [
    "if age>=18:\n",
    "    print(\"you are eligible to vote\")\n",
    "else:\n",
    "    print(\"you are not eligible, tyr next time\")"
   ]
  },
  {
   "cell_type": "code",
   "execution_count": 10,
   "id": "82cc06cf-c604-491b-83c3-078eec2bd543",
   "metadata": {},
   "outputs": [],
   "source": [
    "age=17"
   ]
  },
  {
   "cell_type": "code",
   "execution_count": 11,
   "id": "9655a6ac-1c19-4692-8795-72c90f9a08d2",
   "metadata": {},
   "outputs": [
    {
     "data": {
      "text/plain": [
       "int"
      ]
     },
     "execution_count": 11,
     "metadata": {},
     "output_type": "execute_result"
    }
   ],
   "source": [
    "type(age)"
   ]
  },
  {
   "cell_type": "code",
   "execution_count": 13,
   "id": "aecdb1dc-bcf8-4e79-a197-fc91b0f9734a",
   "metadata": {},
   "outputs": [
    {
     "name": "stdout",
     "output_type": "stream",
     "text": [
      "you are not eligible, tyr next time\n"
     ]
    }
   ],
   "source": [
    "if age>=18:\n",
    "    print(\"you are eligible to vote\")\n",
    "else:\n",
    "    print(\"you are not eligible, tyr next time\")"
   ]
  },
  {
   "cell_type": "code",
   "execution_count": null,
   "id": "72ff8168-7b9a-4458-ad32-35cb8f815280",
   "metadata": {},
   "outputs": [],
   "source": [
    "# user input "
   ]
  },
  {
   "cell_type": "code",
   "execution_count": 20,
   "id": "f280b4dc-9a01-40cc-bbc7-ff5fb676dec9",
   "metadata": {},
   "outputs": [
    {
     "name": "stdin",
     "output_type": "stream",
     "text": [
      "Tell me something & i will repeat it back for you:  hi how r u\n"
     ]
    }
   ],
   "source": [
    "message = input(\"Tell me something & i will repeat it back for you: \")\n",
    "             "
   ]
  },
  {
   "cell_type": "code",
   "execution_count": 21,
   "id": "78d3ac80-c059-4481-a6e7-cfd26ed3fa4e",
   "metadata": {},
   "outputs": [
    {
     "name": "stdout",
     "output_type": "stream",
     "text": [
      "hi how r u\n"
     ]
    }
   ],
   "source": [
    "print(message)"
   ]
  },
  {
   "cell_type": "code",
   "execution_count": 22,
   "id": "98fd3039-8b6a-4a9e-9b04-49cc7ba2e5a2",
   "metadata": {},
   "outputs": [
    {
     "name": "stdin",
     "output_type": "stream",
     "text": [
      "Tell me something & i will repeat it back for you:  iam fine\n"
     ]
    }
   ],
   "source": [
    "message = input(\"Tell me something & i will repeat it back for you: \")"
   ]
  },
  {
   "cell_type": "code",
   "execution_count": 23,
   "id": "9a8a25f9-a67a-4f56-8284-7b950960e798",
   "metadata": {},
   "outputs": [
    {
     "name": "stdout",
     "output_type": "stream",
     "text": [
      "iam fine\n"
     ]
    }
   ],
   "source": [
    "print(message)"
   ]
  },
  {
   "cell_type": "code",
   "execution_count": 25,
   "id": "12c42105-8765-4853-91c5-221e5234ed9d",
   "metadata": {},
   "outputs": [
    {
     "name": "stdin",
     "output_type": "stream",
     "text": [
      "please enter your name :  shaik maktum\n"
     ]
    },
    {
     "name": "stdout",
     "output_type": "stream",
     "text": [
      "\n",
      "hello.shaik maktum!\n"
     ]
    }
   ],
   "source": [
    "name = input(\"please enter your name : \")\n",
    "print(f\"\\nhello.{name}!\")"
   ]
  },
  {
   "cell_type": "code",
   "execution_count": 26,
   "id": "c9c49ecc-aaa5-47b6-8203-c39c0f935869",
   "metadata": {},
   "outputs": [
    {
     "name": "stdin",
     "output_type": "stream",
     "text": [
      " How old are you? 25\n"
     ]
    },
    {
     "name": "stdout",
     "output_type": "stream",
     "text": [
      " you are eligible to vote\n"
     ]
    }
   ],
   "source": [
    "age = input(\" How old are you?\")\n",
    "age = int(age)\n",
    "if age>=18:\n",
    "    print(\" you are eligible to vote\")\n",
    "else:\n",
    "    print(\"you are not eligible to vote , try next year\")"
   ]
  },
  {
   "cell_type": "code",
   "execution_count": 27,
   "id": "400644e1-e909-4bbc-9555-2c9fd0aa5d94",
   "metadata": {},
   "outputs": [
    {
     "name": "stdin",
     "output_type": "stream",
     "text": [
      " How old are you? 12\n"
     ]
    },
    {
     "name": "stdout",
     "output_type": "stream",
     "text": [
      "you are not eligible to vote , try next year\n"
     ]
    }
   ],
   "source": [
    "age = input(\" How old are you?\")\n",
    "age = int(age)\n",
    "if age>=18:\n",
    "    print(\" you are eligible to vote\")\n",
    "else:\n",
    "    print(\"you are not eligible to vote , try next year\")"
   ]
  },
  {
   "cell_type": "code",
   "execution_count": null,
   "id": "e4816c1b-783e-4719-87c2-63ef4dbfdab2",
   "metadata": {},
   "outputs": [],
   "source": [
    "# even or add "
   ]
  },
  {
   "cell_type": "code",
   "execution_count": 30,
   "id": "9b9edb7f-a92f-429c-95fa-f11e653c1f41",
   "metadata": {},
   "outputs": [
    {
     "name": "stdin",
     "output_type": "stream",
     "text": [
      " enter a number, i will tell you its even or odd 24\n"
     ]
    },
    {
     "name": "stdout",
     "output_type": "stream",
     "text": [
      "\n",
      " The number 24 is even \n"
     ]
    }
   ],
   "source": [
    "number = input(\" enter a number, i will tell you its even or odd\")\n",
    "number = int(number)\n",
    "if number%2 == 0:\n",
    "    print(f\"\\n The number {number} is even \")\n",
    "else:\n",
    "    print(f\"\\n The number {number} is odd \")"
   ]
  },
  {
   "cell_type": "code",
   "execution_count": 31,
   "id": "c0b1e963-9a84-4d19-ab00-22b3ea579167",
   "metadata": {},
   "outputs": [
    {
     "name": "stdin",
     "output_type": "stream",
     "text": [
      " enter a number, i will tell you its even or odd 99\n"
     ]
    },
    {
     "name": "stdout",
     "output_type": "stream",
     "text": [
      "\n",
      " The number 99 is odd \n"
     ]
    }
   ],
   "source": [
    "number = input(\" enter a number, i will tell you its even or odd\")\n",
    "number = int(number)\n",
    "if number%2 == 0:\n",
    "    print(f\"\\n The number {number} is even \")\n",
    "else:\n",
    "    print(f\"\\n The number {number} is odd \")"
   ]
  },
  {
   "cell_type": "code",
   "execution_count": null,
   "id": "8d34ce95-86ef-432d-bd93-09bc274eb3a3",
   "metadata": {},
   "outputs": [],
   "source": []
  },
  {
   "cell_type": "code",
   "execution_count": null,
   "id": "91508d3b-3acb-42f4-9162-3c5c6992ee0c",
   "metadata": {},
   "outputs": [],
   "source": []
  },
  {
   "cell_type": "code",
   "execution_count": null,
   "id": "8ccd1a0d-8de2-400d-b5ea-5f3323c140b9",
   "metadata": {},
   "outputs": [],
   "source": []
  },
  {
   "cell_type": "code",
   "execution_count": null,
   "id": "76b05376-8366-43b4-847c-ceb6f418bcda",
   "metadata": {},
   "outputs": [],
   "source": []
  },
  {
   "cell_type": "code",
   "execution_count": null,
   "id": "a41eb5d7-1efd-44e1-90d9-8202c5797d7f",
   "metadata": {},
   "outputs": [],
   "source": []
  },
  {
   "cell_type": "code",
   "execution_count": null,
   "id": "2e8e1547-72af-49af-8739-b385135b0ebc",
   "metadata": {},
   "outputs": [],
   "source": []
  },
  {
   "cell_type": "code",
   "execution_count": null,
   "id": "2369c26f-23f4-4c8b-90d4-e8c2ed6eda0b",
   "metadata": {},
   "outputs": [],
   "source": []
  },
  {
   "cell_type": "code",
   "execution_count": null,
   "id": "6b5e0ee8-2f12-423a-b7ea-a34fabc70ec6",
   "metadata": {},
   "outputs": [],
   "source": []
  },
  {
   "cell_type": "code",
   "execution_count": null,
   "id": "0dd10198-be7a-4644-87d1-d8fdb13658ba",
   "metadata": {},
   "outputs": [],
   "source": []
  },
  {
   "cell_type": "code",
   "execution_count": null,
   "id": "e7f59aae-c3e4-4df0-b1ef-133db6213110",
   "metadata": {},
   "outputs": [],
   "source": []
  },
  {
   "cell_type": "code",
   "execution_count": null,
   "id": "42b011cd-f7fb-473c-a3da-28a77a1b44e9",
   "metadata": {},
   "outputs": [],
   "source": []
  },
  {
   "cell_type": "code",
   "execution_count": null,
   "id": "2ed00622-4e21-4105-8338-b861c24b6ded",
   "metadata": {},
   "outputs": [],
   "source": []
  }
 ],
 "metadata": {
  "kernelspec": {
   "display_name": "Python 3 (ipykernel)",
   "language": "python",
   "name": "python3"
  },
  "language_info": {
   "codemirror_mode": {
    "name": "ipython",
    "version": 3
   },
   "file_extension": ".py",
   "mimetype": "text/x-python",
   "name": "python",
   "nbconvert_exporter": "python",
   "pygments_lexer": "ipython3",
   "version": "3.13.5"
  }
 },
 "nbformat": 4,
 "nbformat_minor": 5
}
