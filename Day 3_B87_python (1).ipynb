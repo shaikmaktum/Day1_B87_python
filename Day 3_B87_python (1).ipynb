{
 "cells": [
  {
   "cell_type": "code",
   "execution_count": 11,
   "id": "a61d5bf7-112b-435a-8e91-c7e51a8cdab4",
   "metadata": {},
   "outputs": [],
   "source": [
    "firstname = 'shaik'\n",
    "lastname = 'maktum'"
   ]
  },
  {
   "cell_type": "code",
   "execution_count": 12,
   "id": "24c13f6a-8e29-4aad-b336-18df12339b56",
   "metadata": {},
   "outputs": [
    {
     "name": "stdout",
     "output_type": "stream",
     "text": [
      " shaikmaktum\n"
     ]
    }
   ],
   "source": [
    "fullname = f' {firstname}{lastname}'\n",
    "print(fullname)"
   ]
  },
  {
   "cell_type": "raw",
   "id": "1b7a505a-3f12-4c4f-86f3-83755380f08d",
   "metadata": {},
   "source": [
    "fullname = f' {firstname}{lastname}'"
   ]
  },
  {
   "cell_type": "code",
   "execution_count": 13,
   "id": "bb18ad6a-3653-49ee-b3e7-7e56f5c75a60",
   "metadata": {},
   "outputs": [
    {
     "name": "stdout",
     "output_type": "stream",
     "text": [
      " Shaikmaktum\n"
     ]
    }
   ],
   "source": [
    "print(fullname.title())"
   ]
  },
  {
   "cell_type": "code",
   "execution_count": 20,
   "id": "04bb65dd-1a9c-46a6-8b65-f67c13f62194",
   "metadata": {},
   "outputs": [
    {
     "name": "stdout",
     "output_type": "stream",
     "text": [
      " keep up the good work,  Shaikmaktum\n"
     ]
    }
   ],
   "source": [
    "message = f\" keep up the good work, {fullname.title()}\"\n",
    "print(message)"
   ]
  },
  {
   "cell_type": "code",
   "execution_count": null,
   "id": "1237f555-7532-45e5-972a-28eaeb63eef3",
   "metadata": {},
   "outputs": [],
   "source": [
    "# addimg white space to string.  "
   ]
  },
  {
   "cell_type": "code",
   "execution_count": 21,
   "id": "d5427643-d6b6-4708-8d63-63315c1a4073",
   "metadata": {},
   "outputs": [
    {
     "name": "stdout",
     "output_type": "stream",
     "text": [
      "favourite_language: python c java c++ swift java script\n"
     ]
    }
   ],
   "source": [
    "print(\"favourite_language: python c java c++ swift java script\")"
   ]
  },
  {
   "cell_type": "code",
   "execution_count": 23,
   "id": "e0501e3a-a7df-4b61-b838-349eafd70c1d",
   "metadata": {},
   "outputs": [
    {
     "name": "stdout",
     "output_type": "stream",
     "text": [
      "favourite_language:\n",
      "python\n",
      "c\n",
      "java\n",
      "c++\n",
      "swift\n",
      "javascript\n"
     ]
    }
   ],
   "source": [
    "print(\"favourite_language:\\npython\\nc\\njava\\nc++\\nswift\\njavascript\") # new line "
   ]
  },
  {
   "cell_type": "code",
   "execution_count": 24,
   "id": "33b95d09-0c59-4de6-a09c-55a87bec11c7",
   "metadata": {},
   "outputs": [
    {
     "name": "stdout",
     "output_type": "stream",
     "text": [
      "favourite_language:\n",
      "\tpython\n",
      "\tc\n",
      "\tjava\n",
      "\tc++\n",
      "\tswift\n",
      "\tjavascript\n"
     ]
    }
   ],
   "source": [
    "print(\"favourite_language:\\n\\tpython\\n\\tc\\n\\tjava\\n\\tc++\\n\\tswift\\n\\tjavascript\") # tab line"
   ]
  },
  {
   "cell_type": "code",
   "execution_count": null,
   "id": "e0cb0a54-e9a4-444e-84be-cf98f22a3d21",
   "metadata": {},
   "outputs": [],
   "source": [
    "# removing white space from the string "
   ]
  },
  {
   "cell_type": "code",
   "execution_count": 27,
   "id": "44f1b3e8-b348-404d-b46e-02274cdb7130",
   "metadata": {},
   "outputs": [
    {
     "name": "stdout",
     "output_type": "stream",
     "text": [
      "   python\n"
     ]
    }
   ],
   "source": [
    "name =\"   python\"\n",
    "print(name)"
   ]
  },
  {
   "cell_type": "code",
   "execution_count": 28,
   "id": "505ca94a-b552-459d-948c-649347b39404",
   "metadata": {},
   "outputs": [
    {
     "name": "stdout",
     "output_type": "stream",
     "text": [
      "python\n"
     ]
    }
   ],
   "source": [
    "name2= \"python\"\n",
    "print(name2)"
   ]
  },
  {
   "cell_type": "code",
   "execution_count": 29,
   "id": "313a287b-3a6e-4a81-bda3-bcba2e1f607d",
   "metadata": {},
   "outputs": [
    {
     "name": "stdout",
     "output_type": "stream",
     "text": [
      "python  \n"
     ]
    }
   ],
   "source": [
    "name3= \"python  \"\n",
    "print(name3)"
   ]
  },
  {
   "cell_type": "code",
   "execution_count": 30,
   "id": "78a3ddfa-141b-4ad9-82a9-70d06eb810d3",
   "metadata": {},
   "outputs": [
    {
     "data": {
      "text/plain": [
       "'python'"
      ]
     },
     "execution_count": 30,
     "metadata": {},
     "output_type": "execute_result"
    }
   ],
   "source": [
    "name.lstrip()"
   ]
  },
  {
   "cell_type": "code",
   "execution_count": 31,
   "id": "51715801-427b-4d3b-b59b-59c026443b62",
   "metadata": {},
   "outputs": [
    {
     "data": {
      "text/plain": [
       "'   python'"
      ]
     },
     "execution_count": 31,
     "metadata": {},
     "output_type": "execute_result"
    }
   ],
   "source": [
    "name.rstrip()"
   ]
  },
  {
   "cell_type": "code",
   "execution_count": 1,
   "id": "b7453e9c-7566-4874-ae50-9814d0fac1d9",
   "metadata": {},
   "outputs": [
    {
     "name": "stdout",
     "output_type": "stream",
     "text": [
      "  python  \n"
     ]
    }
   ],
   "source": [
    "name4 = '  python  '\n",
    "print(name4)\n"
   ]
  },
  {
   "cell_type": "code",
   "execution_count": 2,
   "id": "a679341a-39be-4c35-beca-eef4ea541558",
   "metadata": {},
   "outputs": [
    {
     "data": {
      "text/plain": [
       "'python'"
      ]
     },
     "execution_count": 2,
     "metadata": {},
     "output_type": "execute_result"
    }
   ],
   "source": [
    "name4.strip()"
   ]
  },
  {
   "cell_type": "code",
   "execution_count": null,
   "id": "1cdb588f-3b77-42ee-ba31-6ee7885989ff",
   "metadata": {},
   "outputs": [],
   "source": []
  },
  {
   "cell_type": "code",
   "execution_count": null,
   "id": "ded7ce8e-2824-4bc1-8f59-91249192ec43",
   "metadata": {},
   "outputs": [],
   "source": []
  }
 ],
 "metadata": {
  "kernelspec": {
   "display_name": "Python 3 (ipykernel)",
   "language": "python",
   "name": "python3"
  },
  "language_info": {
   "codemirror_mode": {
    "name": "ipython",
    "version": 3
   },
   "file_extension": ".py",
   "mimetype": "text/x-python",
   "name": "python",
   "nbconvert_exporter": "python",
   "pygments_lexer": "ipython3",
   "version": "3.13.5"
  }
 },
 "nbformat": 4,
 "nbformat_minor": 5
}
