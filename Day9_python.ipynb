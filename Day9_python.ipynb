{
 "cells": [
  {
   "cell_type": "code",
   "execution_count": 1,
   "id": "3c5f9203-f409-4954-9bc6-a01af96ee540",
   "metadata": {},
   "outputs": [],
   "source": [
    "def greet(): # defining the fumction \n",
    "    \"\"\" this function will greet the user \"\"\" # this is doc string \n",
    "    print(\"Hello\")"
   ]
  },
  {
   "cell_type": "code",
   "execution_count": 2,
   "id": "d63ff7c8-d9e6-4923-beb7-c5b225e0f790",
   "metadata": {},
   "outputs": [
    {
     "name": "stdout",
     "output_type": "stream",
     "text": [
      "Hello\n"
     ]
    }
   ],
   "source": [
    "greet() # fumction call"
   ]
  },
  {
   "cell_type": "code",
   "execution_count": 5,
   "id": "d59d3ead-a5ed-499d-8f17-7568f4d159f0",
   "metadata": {},
   "outputs": [],
   "source": [
    "def greet(): # defining the fumction \n",
    " \n",
    "    print(\"All going good\")\n"
   ]
  },
  {
   "cell_type": "code",
   "execution_count": 6,
   "id": "7e928b58-8737-4d9e-97ed-2f42392bd495",
   "metadata": {},
   "outputs": [
    {
     "name": "stdout",
     "output_type": "stream",
     "text": [
      "All going good\n"
     ]
    }
   ],
   "source": [
    "greet()"
   ]
  },
  {
   "cell_type": "code",
   "execution_count": 23,
   "id": "d91103c6-7794-47a6-bb2f-7e367af28024",
   "metadata": {},
   "outputs": [],
   "source": [
    "def greet_user(username):\n",
    "    \"\"\"display a simple greeting\"\"\"\n",
    "    print(f\"Hello, {username.title()}\")"
   ]
  },
  {
   "cell_type": "code",
   "execution_count": 24,
   "id": "56795603-e307-48f8-808c-a3c5b0336d15",
   "metadata": {},
   "outputs": [
    {
     "name": "stdout",
     "output_type": "stream",
     "text": [
      "Hello, Shaik Maktum\n"
     ]
    }
   ],
   "source": [
    "greet_user(\"shaik maktum\") # passing the arguments"
   ]
  },
  {
   "cell_type": "code",
   "execution_count": 26,
   "id": "50d93e88-c59f-4bd6-8ec3-439ec4dee566",
   "metadata": {},
   "outputs": [
    {
     "name": "stdout",
     "output_type": "stream",
     "text": [
      "Hello, Faiyaz Sir\n"
     ]
    }
   ],
   "source": [
    "greet_user('faiyaz sir')"
   ]
  },
  {
   "cell_type": "code",
   "execution_count": 27,
   "id": "2b6f7346-a9bb-45cf-802f-ecb67e7e4d75",
   "metadata": {},
   "outputs": [
    {
     "name": "stdout",
     "output_type": "stream",
     "text": [
      "Hello, Shaik\n"
     ]
    }
   ],
   "source": [
    "greet_user('shaik')"
   ]
  },
  {
   "cell_type": "code",
   "execution_count": null,
   "id": "7addb7c2-6488-474c-b84f-ec387de9aacc",
   "metadata": {},
   "outputs": [],
   "source": [
    "# define the function with name describe_pet which take two parameters : pet_name and animal_name "
   ]
  },
  {
   "cell_type": "code",
   "execution_count": 30,
   "id": "e4813f8c-c88d-404a-9ee1-55609683e7e9",
   "metadata": {},
   "outputs": [],
   "source": [
    "def describe_pet(animal_type,pet_name):\n",
    "    \"\"\"describe the information about the pet\"\"\"\n",
    "    print(f\"\\nI have a {animal_type}\")\n",
    "    print(f\"my {animal_type}'s name is {pet_name}\")"
   ]
  },
  {
   "cell_type": "code",
   "execution_count": 31,
   "id": "23b6925c-3ece-404f-8714-3ff048da6e8b",
   "metadata": {},
   "outputs": [
    {
     "name": "stdout",
     "output_type": "stream",
     "text": [
      "\n",
      "I have a dog\n",
      "my dog's name is taffi\n"
     ]
    }
   ],
   "source": [
    "describe_pet('dog','taffi')  # positional arguments"
   ]
  },
  {
   "cell_type": "code",
   "execution_count": 32,
   "id": "21563f76-7fdb-41bd-a35c-e641fbb6b839",
   "metadata": {},
   "outputs": [
    {
     "name": "stdout",
     "output_type": "stream",
     "text": [
      "\n",
      "I have a cat\n",
      "my cat's name is rex\n"
     ]
    }
   ],
   "source": [
    "describe_pet('cat','rex')"
   ]
  },
  {
   "cell_type": "code",
   "execution_count": 33,
   "id": "0b4a353a-8687-4c71-ab82-3296ffea10d4",
   "metadata": {},
   "outputs": [
    {
     "name": "stdout",
     "output_type": "stream",
     "text": [
      "\n",
      "I have a rex\n",
      "my rex's name is cat\n"
     ]
    }
   ],
   "source": [
    "describe_pet('rex','cat')"
   ]
  },
  {
   "cell_type": "code",
   "execution_count": 35,
   "id": "b4dd245f-5756-40a3-89d5-7a864c0359f1",
   "metadata": {},
   "outputs": [
    {
     "name": "stdout",
     "output_type": "stream",
     "text": [
      "\n",
      "I have a parrot\n",
      "my parrot's name is sweety\n"
     ]
    }
   ],
   "source": [
    "describe_pet(pet_name = \"sweety\", animal_type = \"parrot\") # here we are using keyword arguments "
   ]
  },
  {
   "cell_type": "code",
   "execution_count": 36,
   "id": "8bf48a40-aebe-42be-9192-5042f570f7be",
   "metadata": {},
   "outputs": [
    {
     "name": "stdout",
     "output_type": "stream",
     "text": [
      "\n",
      "I have a DOG\n",
      "my DOG's name is rocky\n"
     ]
    }
   ],
   "source": [
    "describe_pet(pet_name = \"rocky\", animal_type = \"DOG\")"
   ]
  },
  {
   "cell_type": "code",
   "execution_count": null,
   "id": "4bcd6648-7289-4267-bae5-f089981cd6f2",
   "metadata": {},
   "outputs": [],
   "source": []
  },
  {
   "cell_type": "code",
   "execution_count": null,
   "id": "81ea47fe-7c5a-41b1-b9f1-e9dc98788805",
   "metadata": {},
   "outputs": [],
   "source": []
  },
  {
   "cell_type": "code",
   "execution_count": null,
   "id": "a32e1224-9e25-40f3-87cd-10018e352cae",
   "metadata": {},
   "outputs": [],
   "source": []
  },
  {
   "cell_type": "code",
   "execution_count": null,
   "id": "c564066a-d9d9-45a6-aadd-d0195e91b786",
   "metadata": {},
   "outputs": [],
   "source": []
  },
  {
   "cell_type": "code",
   "execution_count": null,
   "id": "86f2662f-0e54-4792-a41c-ed3470960b6d",
   "metadata": {},
   "outputs": [],
   "source": []
  },
  {
   "cell_type": "code",
   "execution_count": null,
   "id": "a6dea9eb-45d0-49f1-b557-b91b0d40844a",
   "metadata": {},
   "outputs": [],
   "source": []
  },
  {
   "cell_type": "code",
   "execution_count": null,
   "id": "91b00ed5-b54f-435f-9df8-71ee32144884",
   "metadata": {},
   "outputs": [],
   "source": []
  }
 ],
 "metadata": {
  "kernelspec": {
   "display_name": "Python 3 (ipykernel)",
   "language": "python",
   "name": "python3"
  },
  "language_info": {
   "codemirror_mode": {
    "name": "ipython",
    "version": 3
   },
   "file_extension": ".py",
   "mimetype": "text/x-python",
   "name": "python",
   "nbconvert_exporter": "python",
   "pygments_lexer": "ipython3",
   "version": "3.13.5"
  }
 },
 "nbformat": 4,
 "nbformat_minor": 5
}
