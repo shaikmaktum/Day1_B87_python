{
 "cells": [
  {
   "cell_type": "code",
   "execution_count": 3,
   "id": "828f534d-8268-468c-8543-d673cb0e4778",
   "metadata": {},
   "outputs": [
    {
     "name": "stdout",
     "output_type": "stream",
     "text": [
      "123\n"
     ]
    }
   ],
   "source": [
    "number=123\n",
    "print(number)\n"
   ]
  },
  {
   "cell_type": "code",
   "execution_count": 4,
   "id": "82d3334f-9a80-4237-a111-070de96cafe6",
   "metadata": {},
   "outputs": [
    {
     "data": {
      "text/plain": [
       "int"
      ]
     },
     "execution_count": 4,
     "metadata": {},
     "output_type": "execute_result"
    }
   ],
   "source": [
    "type(number)"
   ]
  },
  {
   "cell_type": "code",
   "execution_count": 9,
   "id": "120e5f3b-f298-4a64-987f-2bea54a99b9e",
   "metadata": {},
   "outputs": [
    {
     "name": "stdout",
     "output_type": "stream",
     "text": [
      "0.1\n"
     ]
    }
   ],
   "source": [
    "num2=0.1\n",
    "print(num2)"
   ]
  },
  {
   "cell_type": "code",
   "execution_count": 10,
   "id": "9b34a440-d3fc-406b-b890-097c50b56d2e",
   "metadata": {},
   "outputs": [
    {
     "data": {
      "text/plain": [
       "float"
      ]
     },
     "execution_count": 10,
     "metadata": {},
     "output_type": "execute_result"
    }
   ],
   "source": [
    "type(num2)"
   ]
  },
  {
   "cell_type": "markdown",
   "id": "231f7857-8d17-4e65-bdec-042f71750d9c",
   "metadata": {},
   "source": [
    "# introduction to list data type. "
   ]
  },
  {
   "cell_type": "code",
   "execution_count": 22,
   "id": "4c2453ba-f4e7-4cff-8fda-de574d76067d",
   "metadata": {},
   "outputs": [
    {
     "name": "stdout",
     "output_type": "stream",
     "text": [
      "['shaik', 'asma', 'zabee', 'skbhai']\n"
     ]
    }
   ],
   "source": [
    "students=['shaik','asma','zabee','skbhai']\n",
    "print(students)\n"
   ]
  },
  {
   "cell_type": "code",
   "execution_count": 13,
   "id": "fce3b890-2ffd-4fd4-aff8-186fee035167",
   "metadata": {},
   "outputs": [
    {
     "data": {
      "text/plain": [
       "list"
      ]
     },
     "execution_count": 13,
     "metadata": {},
     "output_type": "execute_result"
    }
   ],
   "source": [
    "type(students)"
   ]
  },
  {
   "cell_type": "code",
   "execution_count": null,
   "id": "4d8e1406-f3e0-4456-b5a0-45480393980c",
   "metadata": {},
   "outputs": [],
   "source": [
    "# indexing "
   ]
  },
  {
   "cell_type": "code",
   "execution_count": 23,
   "id": "11a17d9a-4418-4f7f-95c8-9345dd2cb177",
   "metadata": {},
   "outputs": [
    {
     "name": "stdout",
     "output_type": "stream",
     "text": [
      "asma\n"
     ]
    }
   ],
   "source": [
    "print(students[1])"
   ]
  },
  {
   "cell_type": "code",
   "execution_count": 15,
   "id": "d7ef541f-615c-4864-8e71-95987efdc1d4",
   "metadata": {},
   "outputs": [
    {
     "name": "stdout",
     "output_type": "stream",
     "text": [
      "Asma\n"
     ]
    }
   ],
   "source": [
    "print(students[1].title())"
   ]
  },
  {
   "cell_type": "code",
   "execution_count": null,
   "id": "7741ce51-8d95-41ac-ab36-32927ec4dc04",
   "metadata": {},
   "outputs": [],
   "source": [
    "# add the elemets in the list"
   ]
  },
  {
   "cell_type": "code",
   "execution_count": 24,
   "id": "de12ce5a-0d5a-4f4a-986d-1c2f69aa5b16",
   "metadata": {},
   "outputs": [
    {
     "name": "stdout",
     "output_type": "stream",
     "text": [
      "['shaik', 'asma', 'zabee', 'skbhai']\n"
     ]
    }
   ],
   "source": [
    "print(students)"
   ]
  },
  {
   "cell_type": "code",
   "execution_count": 25,
   "id": "ff8bb472-c043-4f57-bd81-63a6dd6d6ff0",
   "metadata": {},
   "outputs": [],
   "source": [
    "students.append(\"maktum\")"
   ]
  },
  {
   "cell_type": "code",
   "execution_count": 26,
   "id": "64ddba42-4f32-4338-91e3-8a1c1f38f306",
   "metadata": {},
   "outputs": [
    {
     "name": "stdout",
     "output_type": "stream",
     "text": [
      "['shaik', 'asma', 'zabee', 'skbhai', 'maktum']\n"
     ]
    }
   ],
   "source": [
    "print(students)"
   ]
  },
  {
   "cell_type": "code",
   "execution_count": 27,
   "id": "78b2095d-ec0a-45e2-aae8-1d396b02d5ec",
   "metadata": {},
   "outputs": [],
   "source": [
    "students.insert(2,'kaleem')"
   ]
  },
  {
   "cell_type": "code",
   "execution_count": 28,
   "id": "a3e69dac-3d7e-4b3d-b39b-ebb2f7c103c6",
   "metadata": {},
   "outputs": [
    {
     "name": "stdout",
     "output_type": "stream",
     "text": [
      "['shaik', 'asma', 'kaleem', 'zabee', 'skbhai', 'maktum']\n"
     ]
    }
   ],
   "source": [
    "print(students)"
   ]
  },
  {
   "cell_type": "code",
   "execution_count": 29,
   "id": "58306dad-05b5-43cb-9afd-4734e34abe46",
   "metadata": {},
   "outputs": [
    {
     "name": "stdout",
     "output_type": "stream",
     "text": [
      "kaleem\n"
     ]
    }
   ],
   "source": [
    "print(students[2])"
   ]
  },
  {
   "cell_type": "code",
   "execution_count": null,
   "id": "8827874c-c440-4f26-922b-91cbdfdc6112",
   "metadata": {},
   "outputs": [],
   "source": [
    "# modify"
   ]
  },
  {
   "cell_type": "code",
   "execution_count": 31,
   "id": "5534597a-5c75-4fb4-88dc-6cea03c736b1",
   "metadata": {},
   "outputs": [],
   "source": [
    "students[0]=\"anam\""
   ]
  },
  {
   "cell_type": "code",
   "execution_count": 32,
   "id": "e7fd4b1b-d3a3-40b6-9564-152d78ba77a7",
   "metadata": {},
   "outputs": [
    {
     "name": "stdout",
     "output_type": "stream",
     "text": [
      "['anam', 'asma', 'kaleem', 'zabee', 'skbhai', 'maktum']\n"
     ]
    }
   ],
   "source": [
    "print(students)"
   ]
  },
  {
   "cell_type": "code",
   "execution_count": null,
   "id": "f10939c6-32dd-42c8-a144-e0045b3e7b22",
   "metadata": {},
   "outputs": [],
   "source": [
    "# delete"
   ]
  },
  {
   "cell_type": "code",
   "execution_count": 34,
   "id": "9857c32b-fd4a-49bd-a15c-b291ed5ff00f",
   "metadata": {},
   "outputs": [],
   "source": [
    "del students[2]"
   ]
  },
  {
   "cell_type": "code",
   "execution_count": 35,
   "id": "c8fb9cba-1391-44cb-8217-4ba01484c895",
   "metadata": {},
   "outputs": [
    {
     "name": "stdout",
     "output_type": "stream",
     "text": [
      "['anam', 'asma', 'zabee', 'skbhai', 'maktum']\n"
     ]
    }
   ],
   "source": [
    "print(students)"
   ]
  },
  {
   "cell_type": "code",
   "execution_count": null,
   "id": "cf163499-4a13-4684-b7f3-8b59db72448d",
   "metadata": {},
   "outputs": [],
   "source": []
  },
  {
   "cell_type": "code",
   "execution_count": null,
   "id": "25661adf-cf99-4e53-ab81-879743093663",
   "metadata": {},
   "outputs": [],
   "source": []
  },
  {
   "cell_type": "code",
   "execution_count": null,
   "id": "f5eb2eb1-29b5-4ab3-810b-f50b02a6d9a2",
   "metadata": {},
   "outputs": [],
   "source": []
  },
  {
   "cell_type": "code",
   "execution_count": null,
   "id": "5b9dd383-90b7-41c8-8c5f-cca3359df63b",
   "metadata": {},
   "outputs": [],
   "source": []
  },
  {
   "cell_type": "code",
   "execution_count": null,
   "id": "37b02ea0-b1e2-4ee0-85ef-6dd068788066",
   "metadata": {},
   "outputs": [],
   "source": []
  },
  {
   "cell_type": "code",
   "execution_count": null,
   "id": "4ec7b9b6-ef2b-4e43-8169-c4c56367d711",
   "metadata": {},
   "outputs": [],
   "source": []
  },
  {
   "cell_type": "code",
   "execution_count": null,
   "id": "ce557aa1-5eeb-4523-b508-523ff7935d09",
   "metadata": {},
   "outputs": [],
   "source": []
  }
 ],
 "metadata": {
  "kernelspec": {
   "display_name": "Python 3 (ipykernel)",
   "language": "python",
   "name": "python3"
  },
  "language_info": {
   "codemirror_mode": {
    "name": "ipython",
    "version": 3
   },
   "file_extension": ".py",
   "mimetype": "text/x-python",
   "name": "python",
   "nbconvert_exporter": "python",
   "pygments_lexer": "ipython3",
   "version": "3.13.5"
  }
 },
 "nbformat": 4,
 "nbformat_minor": 5
}
