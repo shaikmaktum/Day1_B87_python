{
 "cells": [
  {
   "cell_type": "code",
   "execution_count": null,
   "id": "ea5f5f22-faf5-44f9-b527-86cf5a996034",
   "metadata": {},
   "outputs": [],
   "source": [
    "#class example : req : Design a dog class with its functionalites...."
   ]
  },
  {
   "cell_type": "code",
   "execution_count": null,
   "id": "93972adb-9ab3-46e7-b27f-1369bf335366",
   "metadata": {},
   "outputs": [],
   "source": []
  },
  {
   "cell_type": "code",
   "execution_count": 13,
   "id": "e52a6125-28ee-4f67-9d41-fc60e515c8ac",
   "metadata": {},
   "outputs": [],
   "source": [
    "class Dog:  # this is a class declaration \n",
    "    \"\"\"A simple attempt to model the Dog\"\"\"\n",
    "    \n",
    "    def __init__(self,name,age):    # this is a method\n",
    "        \"\"\"initialze name and age attributes\"\"\"\n",
    "        self.name = name     # this are attributes\n",
    "        self.age = age\n",
    "\n",
    "    def sit(self): # this is method\n",
    "        \"\"\"simulate a dog sitting in respone to a command\"\"\"\n",
    "        print(f\"{self.name} is now sitting\")\n",
    "\n",
    "    def roll_over(self): #this is method \n",
    "        \"\"\"simulate rolling over in respone to a command\"\"\"\n",
    "        print(f\"{self.name} rolled over\")"
   ]
  },
  {
   "cell_type": "code",
   "execution_count": 15,
   "id": "786a0a3e-6764-473d-992c-5981daacbeac",
   "metadata": {},
   "outputs": [],
   "source": [
    "my_dog = Dog('bruno',6)"
   ]
  },
  {
   "cell_type": "code",
   "execution_count": 16,
   "id": "9bcd9225-c3e3-4d9c-a7a5-05fcd79df5c6",
   "metadata": {},
   "outputs": [
    {
     "name": "stdout",
     "output_type": "stream",
     "text": [
      "bruno is now sitting\n"
     ]
    }
   ],
   "source": [
    "my_dog.sit()"
   ]
  },
  {
   "cell_type": "code",
   "execution_count": 18,
   "id": "ba0e5ad8-91f1-4535-8254-35d0ac206595",
   "metadata": {},
   "outputs": [
    {
     "name": "stdout",
     "output_type": "stream",
     "text": [
      "bruno rolled over\n"
     ]
    }
   ],
   "source": [
    "my_dog.roll_over()"
   ]
  },
  {
   "cell_type": "code",
   "execution_count": null,
   "id": "d50c9b3a-e929-4674-9c78-6c3893b6dc97",
   "metadata": {},
   "outputs": [],
   "source": []
  },
  {
   "cell_type": "code",
   "execution_count": 24,
   "id": "6c4d20f7-e6bb-4249-8ef7-f5d5c13abd59",
   "metadata": {},
   "outputs": [],
   "source": [
    "test = Dog('rex',3)"
   ]
  },
  {
   "cell_type": "code",
   "execution_count": 20,
   "id": "e8fe20ec-28a4-4e9a-b28b-9a0d4f721f24",
   "metadata": {},
   "outputs": [
    {
     "name": "stdout",
     "output_type": "stream",
     "text": [
      "rex is now sitting\n"
     ]
    }
   ],
   "source": [
    "test.sit()"
   ]
  },
  {
   "cell_type": "code",
   "execution_count": 25,
   "id": "6ce5f9cf-fd55-421f-a791-504580eb1d70",
   "metadata": {},
   "outputs": [
    {
     "name": "stdout",
     "output_type": "stream",
     "text": [
      "rex rolled over\n"
     ]
    }
   ],
   "source": [
    "test.roll_over()"
   ]
  },
  {
   "cell_type": "code",
   "execution_count": null,
   "id": "37a67256-0593-47fd-94d4-870b972afd6c",
   "metadata": {},
   "outputs": [],
   "source": []
  },
  {
   "cell_type": "code",
   "execution_count": null,
   "id": "0b81bfe1-8538-4252-9fb9-2f447e0efda6",
   "metadata": {},
   "outputs": [],
   "source": [
    "# class car exampple..."
   ]
  },
  {
   "cell_type": "code",
   "execution_count": 46,
   "id": "165a99ac-b4c4-4292-ab8c-b59f732ed151",
   "metadata": {},
   "outputs": [],
   "source": [
    "class car:\n",
    "    \"\"\"A simple attempt to represent a car\"\"\"\n",
    "\n",
    "    def __init__(self,make,model,year):\n",
    "        \"\"\"initialze the attributes to describe the car\"\"\"\n",
    "        self.make = make\n",
    "        self.model = model\n",
    "        self.year = year\n",
    "\n",
    "    def get_descriptive_name(self):\n",
    "        \"\"\"return a neatly formatted descriptive name\"\"\"\n",
    "        long_name = f\"{self.make} {self.model} {self.year}\"\n",
    "        return long_name.title()"
   ]
  },
  {
   "cell_type": "code",
   "execution_count": 49,
   "id": "8d04bd83-e8c7-46c9-a844-3e90489ba531",
   "metadata": {},
   "outputs": [],
   "source": [
    "my_new_car = car('audi', 'a4', 2022)\n"
   ]
  },
  {
   "cell_type": "code",
   "execution_count": 50,
   "id": "fd64f5a5-eee9-4f69-b9e1-3f4a80a3c074",
   "metadata": {},
   "outputs": [
    {
     "name": "stdout",
     "output_type": "stream",
     "text": [
      "Audi A4 2022\n"
     ]
    }
   ],
   "source": [
    "print(my_new_car.get_descriptive_name())\n"
   ]
  },
  {
   "cell_type": "code",
   "execution_count": null,
   "id": "aea5ea0a-a20a-4c53-a9b7-676862652bed",
   "metadata": {},
   "outputs": [],
   "source": []
  },
  {
   "cell_type": "code",
   "execution_count": null,
   "id": "7c7402cc-6de3-460f-8162-0a8487b32f3b",
   "metadata": {},
   "outputs": [],
   "source": []
  },
  {
   "cell_type": "code",
   "execution_count": null,
   "id": "343515de-1e77-4db7-a284-a20c2640c937",
   "metadata": {},
   "outputs": [],
   "source": []
  },
  {
   "cell_type": "code",
   "execution_count": null,
   "id": "6890453f-d064-48a0-8f4a-2e803f6b452e",
   "metadata": {},
   "outputs": [],
   "source": []
  }
 ],
 "metadata": {
  "kernelspec": {
   "display_name": "Python 3 (ipykernel)",
   "language": "python",
   "name": "python3"
  },
  "language_info": {
   "codemirror_mode": {
    "name": "ipython",
    "version": 3
   },
   "file_extension": ".py",
   "mimetype": "text/x-python",
   "name": "python",
   "nbconvert_exporter": "python",
   "pygments_lexer": "ipython3",
   "version": "3.13.5"
  }
 },
 "nbformat": 4,
 "nbformat_minor": 5
}
