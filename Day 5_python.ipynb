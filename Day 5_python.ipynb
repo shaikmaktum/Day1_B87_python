{
 "cells": [
  {
   "cell_type": "code",
   "execution_count": null,
   "id": "a760e035-1b63-437e-839a-97bfa197cd0d",
   "metadata": {},
   "outputs": [],
   "source": [
    "# orgnising the list data "
   ]
  },
  {
   "cell_type": "code",
   "execution_count": 1,
   "id": "56e3f571-66b4-49fe-b791-32a4fc135666",
   "metadata": {},
   "outputs": [
    {
     "name": "stdout",
     "output_type": "stream",
     "text": [
      "['bmw', 'tata', 'suzuki', 'audi', 'toyata', 'benz']\n"
     ]
    }
   ],
   "source": [
    "cars=['bmw','tata','suzuki','audi','toyata','benz']\n",
    "print(cars)"
   ]
  },
  {
   "cell_type": "code",
   "execution_count": 7,
   "id": "8e5b696c-1bfa-42ae-9609-08e1510793f3",
   "metadata": {},
   "outputs": [
    {
     "name": "stdout",
     "output_type": "stream",
     "text": [
      "['audi', 'benz', 'bmw', 'suzuki', 'tata', 'toyata']\n"
     ]
    }
   ],
   "source": [
    "print(sorted(cars))"
   ]
  },
  {
   "cell_type": "code",
   "execution_count": 8,
   "id": "7ea14df3-2d5e-400f-8d98-926d5543fb2a",
   "metadata": {},
   "outputs": [
    {
     "data": {
      "text/plain": [
       "6"
      ]
     },
     "execution_count": 8,
     "metadata": {},
     "output_type": "execute_result"
    }
   ],
   "source": [
    "len(cars)"
   ]
  },
  {
   "cell_type": "code",
   "execution_count": 9,
   "id": "d8905206-4ea3-4206-9566-6ad42bc4d57f",
   "metadata": {},
   "outputs": [],
   "source": [
    "cars.reverse()"
   ]
  },
  {
   "cell_type": "code",
   "execution_count": 10,
   "id": "c5a917d7-d67f-4607-8b14-748d6b882870",
   "metadata": {},
   "outputs": [
    {
     "name": "stdout",
     "output_type": "stream",
     "text": [
      "['benz', 'toyata', 'audi', 'suzuki', 'tata', 'bmw']\n"
     ]
    }
   ],
   "source": [
    "print(cars)"
   ]
  },
  {
   "cell_type": "code",
   "execution_count": null,
   "id": "bea26ce0-78b2-45ef-a4d6-e381e693c051",
   "metadata": {},
   "outputs": [],
   "source": [
    "# introduction to slicing "
   ]
  },
  {
   "cell_type": "code",
   "execution_count": 11,
   "id": "feab1830-b35f-43a8-bd5f-47691d03aa8d",
   "metadata": {},
   "outputs": [
    {
     "name": "stdout",
     "output_type": "stream",
     "text": [
      "['anika', 'arpita', 'bhusan', 'bhanu', 'chandan', 'shaik', 'danish']\n"
     ]
    }
   ],
   "source": [
    "students=['anika','arpita','bhusan','bhanu','chandan','shaik','danish']\n",
    "print(students)"
   ]
  },
  {
   "cell_type": "code",
   "execution_count": 12,
   "id": "2779f7a4-4a33-4db2-b6f3-02b67d564eb3",
   "metadata": {},
   "outputs": [
    {
     "name": "stdout",
     "output_type": "stream",
     "text": [
      "['anika']\n"
     ]
    }
   ],
   "source": [
    "print(students[0:1])"
   ]
  },
  {
   "cell_type": "code",
   "execution_count": 13,
   "id": "ccccbbdd-350f-4848-95f6-be301df97066",
   "metadata": {},
   "outputs": [
    {
     "name": "stdout",
     "output_type": "stream",
     "text": [
      "['anika', 'arpita']\n"
     ]
    }
   ],
   "source": [
    "print(students[0:2])"
   ]
  },
  {
   "cell_type": "code",
   "execution_count": 14,
   "id": "3f215ae1-4399-428d-87d5-6b79e717b288",
   "metadata": {},
   "outputs": [
    {
     "name": "stdout",
     "output_type": "stream",
     "text": [
      "['bhusan', 'bhanu']\n"
     ]
    }
   ],
   "source": [
    "print(students[2:4])"
   ]
  },
  {
   "cell_type": "code",
   "execution_count": 15,
   "id": "9b1c7821-9a01-4f24-9303-918c5064bbb3",
   "metadata": {},
   "outputs": [
    {
     "name": "stdout",
     "output_type": "stream",
     "text": [
      "['anika', 'bhusan', 'chandan', 'danish']\n"
     ]
    }
   ],
   "source": [
    "print(students[0:7:2])"
   ]
  },
  {
   "cell_type": "code",
   "execution_count": null,
   "id": "beae6be1-09d2-4ccf-8cce-76ea4e7e8cf3",
   "metadata": {},
   "outputs": [],
   "source": [
    "# tuple"
   ]
  },
  {
   "cell_type": "code",
   "execution_count": 18,
   "id": "305e6fcc-ab0a-47bd-90f9-cf2ebd0af443",
   "metadata": {},
   "outputs": [
    {
     "name": "stdout",
     "output_type": "stream",
     "text": [
      "(20, 50)\n"
     ]
    }
   ],
   "source": [
    "Dimensions=(20,50)\n",
    "print(Dimensions)"
   ]
  },
  {
   "cell_type": "code",
   "execution_count": 19,
   "id": "34be1e27-183f-40f2-b942-6cdc26121ffe",
   "metadata": {},
   "outputs": [
    {
     "data": {
      "text/plain": [
       "tuple"
      ]
     },
     "execution_count": 19,
     "metadata": {},
     "output_type": "execute_result"
    }
   ],
   "source": [
    "type(Dimensions)"
   ]
  },
  {
   "cell_type": "code",
   "execution_count": null,
   "id": "5323fedd-af5f-49aa-817d-2c736ce0913e",
   "metadata": {},
   "outputs": [],
   "source": [
    "\n"
   ]
  },
  {
   "cell_type": "code",
   "execution_count": null,
   "id": "00dcd9b2-6bc3-469e-930d-9cbee5264c12",
   "metadata": {},
   "outputs": [],
   "source": []
  },
  {
   "cell_type": "code",
   "execution_count": null,
   "id": "5f9c697b-6959-43c1-b9eb-8d6f40d87346",
   "metadata": {},
   "outputs": [],
   "source": []
  },
  {
   "cell_type": "code",
   "execution_count": null,
   "id": "268257dc-ed4d-4b38-8bd6-83ea7d569bb9",
   "metadata": {},
   "outputs": [],
   "source": []
  },
  {
   "cell_type": "code",
   "execution_count": null,
   "id": "7d70226c-5abc-4a7a-a290-1436937fe021",
   "metadata": {},
   "outputs": [],
   "source": []
  },
  {
   "cell_type": "code",
   "execution_count": null,
   "id": "19575f04-10b6-47af-a321-07f9c34c6c1b",
   "metadata": {},
   "outputs": [],
   "source": []
  },
  {
   "cell_type": "code",
   "execution_count": null,
   "id": "e10ada0f-625e-4e16-8f20-966e34c09205",
   "metadata": {},
   "outputs": [],
   "source": []
  },
  {
   "cell_type": "code",
   "execution_count": null,
   "id": "8cf49c75-fa3e-4f59-b4c7-874afb46b62f",
   "metadata": {},
   "outputs": [],
   "source": []
  },
  {
   "cell_type": "code",
   "execution_count": null,
   "id": "5aee0028-aaf4-4fc2-b718-4683b3d8477f",
   "metadata": {},
   "outputs": [],
   "source": []
  },
  {
   "cell_type": "code",
   "execution_count": null,
   "id": "fcf68fbf-f73f-4e22-8e9f-8374db66c2ef",
   "metadata": {},
   "outputs": [],
   "source": []
  },
  {
   "cell_type": "code",
   "execution_count": null,
   "id": "44aa7397-915f-4ae3-b4c6-54405488575b",
   "metadata": {},
   "outputs": [],
   "source": []
  },
  {
   "cell_type": "code",
   "execution_count": null,
   "id": "ff5734da-14c9-43d7-8143-81724cb16f99",
   "metadata": {},
   "outputs": [],
   "source": []
  },
  {
   "cell_type": "code",
   "execution_count": null,
   "id": "4a13b564-98ea-4dde-a8fd-c080f84cdaf1",
   "metadata": {},
   "outputs": [],
   "source": []
  }
 ],
 "metadata": {
  "kernelspec": {
   "display_name": "Python 3 (ipykernel)",
   "language": "python",
   "name": "python3"
  },
  "language_info": {
   "codemirror_mode": {
    "name": "ipython",
    "version": 3
   },
   "file_extension": ".py",
   "mimetype": "text/x-python",
   "name": "python",
   "nbconvert_exporter": "python",
   "pygments_lexer": "ipython3",
   "version": "3.13.5"
  }
 },
 "nbformat": 4,
 "nbformat_minor": 5
}
