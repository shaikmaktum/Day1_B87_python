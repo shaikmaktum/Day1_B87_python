{
 "cells": [
  {
   "cell_type": "code",
   "execution_count": null,
   "id": "ecc3cef7-4a6c-4376-91e4-3ce6a6b59986",
   "metadata": {},
   "outputs": [],
   "source": [
    "# Dictionary"
   ]
  },
  {
   "cell_type": "code",
   "execution_count": null,
   "id": "0ae1186b-6919-4494-b120-e56230bf1c83",
   "metadata": {},
   "outputs": [],
   "source": [
    "# Alien game"
   ]
  },
  {
   "cell_type": "code",
   "execution_count": 2,
   "id": "3a9eef4c-c550-40b2-9a56-3624a632aa91",
   "metadata": {},
   "outputs": [
    {
     "name": "stdout",
     "output_type": "stream",
     "text": [
      "{'colour': 'green', 'points': 5}\n"
     ]
    }
   ],
   "source": [
    "alien= {'colour':'green','points': 5}\n",
    "print(alien)"
   ]
  },
  {
   "cell_type": "code",
   "execution_count": 3,
   "id": "5057f2b6-3eef-43e1-9237-735fb787eba6",
   "metadata": {},
   "outputs": [
    {
     "data": {
      "text/plain": [
       "dict"
      ]
     },
     "execution_count": 3,
     "metadata": {},
     "output_type": "execute_result"
    }
   ],
   "source": [
    "type(alien)"
   ]
  },
  {
   "cell_type": "code",
   "execution_count": 4,
   "id": "ea10fa64-2ecc-456c-9137-df7d491cdc00",
   "metadata": {},
   "outputs": [],
   "source": [
    "alien[\"start_position\"] = \"level\""
   ]
  },
  {
   "cell_type": "code",
   "execution_count": 5,
   "id": "fdde8815-20dd-42ce-88ba-adf98d7bed5a",
   "metadata": {},
   "outputs": [
    {
     "name": "stdout",
     "output_type": "stream",
     "text": [
      "{'colour': 'green', 'points': 5, 'start_position': 'level'}\n"
     ]
    }
   ],
   "source": [
    "print(alien)"
   ]
  },
  {
   "cell_type": "code",
   "execution_count": null,
   "id": "efdbb8ca-e809-4050-881e-efdec18d8184",
   "metadata": {},
   "outputs": [],
   "source": [
    "# color of the alien"
   ]
  },
  {
   "cell_type": "code",
   "execution_count": 8,
   "id": "4d4a3997-5d93-45b1-bcc2-0171fb337b65",
   "metadata": {},
   "outputs": [
    {
     "name": "stdout",
     "output_type": "stream",
     "text": [
      "green\n"
     ]
    }
   ],
   "source": [
    "print(alien['colour']) #give the key and get the value"
   ]
  },
  {
   "cell_type": "code",
   "execution_count": null,
   "id": "6a04da71-c5e9-427d-963d-dea3f35113e3",
   "metadata": {},
   "outputs": [],
   "source": [
    "#modify the colour "
   ]
  },
  {
   "cell_type": "code",
   "execution_count": 9,
   "id": "3969d306-6c2e-46b9-8ea4-5c1a7f2e65f9",
   "metadata": {},
   "outputs": [],
   "source": [
    "alien['colour'] = 'red'"
   ]
  },
  {
   "cell_type": "code",
   "execution_count": 10,
   "id": "38f5fcda-2321-47cf-9157-d3845d53c571",
   "metadata": {},
   "outputs": [
    {
     "name": "stdout",
     "output_type": "stream",
     "text": [
      "{'colour': 'red', 'points': 5, 'start_position': 'level'}\n"
     ]
    }
   ],
   "source": [
    "print(alien)"
   ]
  },
  {
   "cell_type": "code",
   "execution_count": 12,
   "id": "57153142-236a-4aaa-bbe9-309b5f165e66",
   "metadata": {},
   "outputs": [
    {
     "name": "stdout",
     "output_type": "stream",
     "text": [
      "red\n"
     ]
    }
   ],
   "source": [
    "print(alien['colour'])"
   ]
  },
  {
   "cell_type": "code",
   "execution_count": 23,
   "id": "2f0515fd-93d5-4690-a10e-05690dcebfd7",
   "metadata": {},
   "outputs": [
    {
     "name": "stdout",
     "output_type": "stream",
     "text": [
      "{'Dob=16-12-1999', 'password=1234', 'lastname=maktum', 'username=shaikmaktum', 'fisrtname=shaik'}\n"
     ]
    }
   ],
   "source": [
    "useraccount = {'fisrtname=shaik','lastname=maktum','username=shaikmaktum','Dob=16-12-1999','password=1234'}\n",
    "print(useraccount)"
   ]
  },
  {
   "cell_type": "code",
   "execution_count": null,
   "id": "9d62188e-1cb6-4c14-809f-5e02ce2ca928",
   "metadata": {},
   "outputs": [],
   "source": [
    "# introduction to lopping statement"
   ]
  },
  {
   "cell_type": "code",
   "execution_count": 36,
   "id": "6cbd5ddd-b6fc-478d-a6a2-90039ff98ea1",
   "metadata": {},
   "outputs": [
    {
     "name": "stdout",
     "output_type": "stream",
     "text": [
      "['durga', 'dinesh', 'kavya', 'noor', 'raza', 'abid', 'joseph']\n"
     ]
    }
   ],
   "source": [
    "students=['durga','dinesh','kavya','noor','raza','abid','joseph']\n",
    "print(students)"
   ]
  },
  {
   "cell_type": "code",
   "execution_count": 42,
   "id": "376f173e-fae7-4d79-b57c-363b72168129",
   "metadata": {},
   "outputs": [
    {
     "name": "stdout",
     "output_type": "stream",
     "text": [
      "keep up good work, Durga\n"
     ]
    }
   ],
   "source": [
    "print(f\"keep up good work, {students[0].title()}\")"
   ]
  },
  {
   "cell_type": "code",
   "execution_count": 47,
   "id": "ed8e7715-bea6-4623-be55-25023b7df281",
   "metadata": {},
   "outputs": [
    {
     "name": "stdout",
     "output_type": "stream",
     "text": [
      "keep up good work, Raza\n"
     ]
    }
   ],
   "source": [
    "print(f\"keep up good work, {students[4].title()}\")"
   ]
  },
  {
   "cell_type": "code",
   "execution_count": null,
   "id": "0d97dee2-1b20-470a-999b-12d72dc8e075",
   "metadata": {},
   "outputs": [],
   "source": [
    "# introduction to for loop"
   ]
  },
  {
   "cell_type": "code",
   "execution_count": 62,
   "id": "1e2e142e-687c-4d79-bb64-3a423b449a21",
   "metadata": {},
   "outputs": [
    {
     "name": "stdout",
     "output_type": "stream",
     "text": [
      "durga\n",
      "dinesh\n",
      "kavya\n",
      "noor\n",
      "raza\n",
      "abid\n",
      "joseph\n"
     ]
    }
   ],
   "source": [
    "for x in students:\n",
    "    print(x)\n",
    "    "
   ]
  },
  {
   "cell_type": "code",
   "execution_count": 63,
   "id": "1db7dd14-ec45-48b9-95c9-f031f00ac534",
   "metadata": {},
   "outputs": [
    {
     "name": "stdout",
     "output_type": "stream",
     "text": [
      "keep up good work, Durga\n",
      "keep up good work, Dinesh\n",
      "keep up good work, Kavya\n",
      "keep up good work, Noor\n",
      "keep up good work, Raza\n",
      "keep up good work, Abid\n",
      "keep up good work, Joseph\n"
     ]
    }
   ],
   "source": [
    "for x in students:\n",
    "    print(f\"keep up good work, {x.title()}\")"
   ]
  },
  {
   "cell_type": "code",
   "execution_count": null,
   "id": "c2496cc6-054d-4cbb-a135-6493ad10420f",
   "metadata": {},
   "outputs": [],
   "source": []
  },
  {
   "cell_type": "code",
   "execution_count": null,
   "id": "4ae8c361-1f91-4c43-a29b-341afddc13a0",
   "metadata": {},
   "outputs": [],
   "source": []
  },
  {
   "cell_type": "code",
   "execution_count": null,
   "id": "545761b6-7732-45b9-b525-f5e7ce76bcdf",
   "metadata": {},
   "outputs": [],
   "source": []
  },
  {
   "cell_type": "code",
   "execution_count": null,
   "id": "37e4eda3-177d-4108-a1e5-e409dab146a8",
   "metadata": {},
   "outputs": [],
   "source": []
  },
  {
   "cell_type": "code",
   "execution_count": null,
   "id": "21a8f3bc-ff7d-49b8-9dd2-63fd595dc9d4",
   "metadata": {},
   "outputs": [],
   "source": []
  },
  {
   "cell_type": "code",
   "execution_count": null,
   "id": "6ffb11e8-0789-4895-b26c-5749f54ef1dc",
   "metadata": {},
   "outputs": [],
   "source": []
  },
  {
   "cell_type": "code",
   "execution_count": null,
   "id": "d9127e0b-edc1-476b-89fd-96b77b3312fb",
   "metadata": {},
   "outputs": [],
   "source": []
  },
  {
   "cell_type": "code",
   "execution_count": null,
   "id": "65d6fe39-21fb-4cfc-9bbe-d764ffc919c8",
   "metadata": {},
   "outputs": [],
   "source": []
  },
  {
   "cell_type": "code",
   "execution_count": null,
   "id": "aaff0ba7-af06-4493-b027-2a7b6b1938c8",
   "metadata": {},
   "outputs": [],
   "source": []
  },
  {
   "cell_type": "code",
   "execution_count": null,
   "id": "f41b2671-39b8-4da6-9a82-8f5caf0df2f7",
   "metadata": {},
   "outputs": [],
   "source": []
  }
 ],
 "metadata": {
  "kernelspec": {
   "display_name": "Python 3 (ipykernel)",
   "language": "python",
   "name": "python3"
  },
  "language_info": {
   "codemirror_mode": {
    "name": "ipython",
    "version": 3
   },
   "file_extension": ".py",
   "mimetype": "text/x-python",
   "name": "python",
   "nbconvert_exporter": "python",
   "pygments_lexer": "ipython3",
   "version": "3.13.5"
  }
 },
 "nbformat": 4,
 "nbformat_minor": 5
}
