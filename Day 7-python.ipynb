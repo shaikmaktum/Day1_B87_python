{
 "cells": [
  {
   "cell_type": "code",
   "execution_count": 1,
   "id": "140fc121-a516-46f5-b791-5b36a75bb11e",
   "metadata": {},
   "outputs": [
    {
     "name": "stdout",
     "output_type": "stream",
     "text": [
      "['durga', 'dinesh', 'kavya', 'noor', 'raza', 'abid', 'joseph']\n"
     ]
    }
   ],
   "source": [
    "students=['durga','dinesh','kavya','noor','raza','abid','joseph']\n",
    "print(students)"
   ]
  },
  {
   "cell_type": "code",
   "execution_count": 4,
   "id": "b7607bbf-0984-48e0-8044-017151f722e8",
   "metadata": {},
   "outputs": [
    {
     "name": "stdout",
     "output_type": "stream",
     "text": [
      "durga\n",
      "dinesh\n",
      "kavya\n",
      "noor\n",
      "raza\n",
      "abid\n",
      "joseph\n"
     ]
    }
   ],
   "source": [
    "for a in students:\n",
    "    print(a)"
   ]
  },
  {
   "cell_type": "code",
   "execution_count": 9,
   "id": "50f3ec9b-d388-48fe-9e76-6436f2e3937d",
   "metadata": {},
   "outputs": [
    {
     "name": "stdout",
     "output_type": "stream",
     "text": [
      "keep up the good work, Durga\n",
      "i am waiting to receive your submisson of today, Durga\n",
      "keep up the good work, Dinesh\n",
      "i am waiting to receive your submisson of today, Dinesh\n",
      "keep up the good work, Kavya\n",
      "i am waiting to receive your submisson of today, Kavya\n",
      "keep up the good work, Noor\n",
      "i am waiting to receive your submisson of today, Noor\n",
      "keep up the good work, Raza\n",
      "i am waiting to receive your submisson of today, Raza\n",
      "keep up the good work, Abid\n",
      "i am waiting to receive your submisson of today, Abid\n",
      "keep up the good work, Joseph\n",
      "i am waiting to receive your submisson of today, Joseph\n"
     ]
    }
   ],
   "source": [
    "for a in students:\n",
    "    print(f\"keep up the good work, {a.title()}\")\n",
    "    print(f\"i am waiting to receive your submisson of today, {a.title()}\")"
   ]
  },
  {
   "cell_type": "code",
   "execution_count": 10,
   "id": "12cd7854-97a5-4635-835c-f7886932fa5b",
   "metadata": {},
   "outputs": [
    {
     "name": "stdout",
     "output_type": "stream",
     "text": [
      "keep up the good work, Durga\n",
      "i am waiting to receive your submisson of today, Durga\n",
      "\n",
      "keep up the good work, Dinesh\n",
      "i am waiting to receive your submisson of today, Dinesh\n",
      "\n",
      "keep up the good work, Kavya\n",
      "i am waiting to receive your submisson of today, Kavya\n",
      "\n",
      "keep up the good work, Noor\n",
      "i am waiting to receive your submisson of today, Noor\n",
      "\n",
      "keep up the good work, Raza\n",
      "i am waiting to receive your submisson of today, Raza\n",
      "\n",
      "keep up the good work, Abid\n",
      "i am waiting to receive your submisson of today, Abid\n",
      "\n",
      "keep up the good work, Joseph\n",
      "i am waiting to receive your submisson of today, Joseph\n",
      "\n"
     ]
    }
   ],
   "source": [
    "for a in students:\n",
    "    print(f\"keep up the good work, {a.title()}\")\n",
    "    print(f\"i am waiting to receive your submisson of today, {a.title()}\\n\")"
   ]
  },
  {
   "cell_type": "code",
   "execution_count": 13,
   "id": "9285c668-19d4-475a-9dec-94a99df8702f",
   "metadata": {},
   "outputs": [
    {
     "name": "stdout",
     "output_type": "stream",
     "text": [
      "keep up the good work, Durga\n",
      "i am waiting to receive your submisson of today, Durga\n",
      "\n",
      "keep up the good work, Dinesh\n",
      "i am waiting to receive your submisson of today, Dinesh\n",
      "\n",
      "keep up the good work, Kavya\n",
      "i am waiting to receive your submisson of today, Kavya\n",
      "\n",
      "keep up the good work, Noor\n",
      "i am waiting to receive your submisson of today, Noor\n",
      "\n",
      "keep up the good work, Raza\n",
      "i am waiting to receive your submisson of today, Raza\n",
      "\n",
      "keep up the good work, Abid\n",
      "i am waiting to receive your submisson of today, Abid\n",
      "\n",
      "keep up the good work, Joseph\n",
      "i am waiting to receive your submisson of today, Joseph\n",
      "\n",
      "thanks you all for attending the python session\n"
     ]
    }
   ],
   "source": [
    "for a in students:\n",
    "    print(f\"keep up the good work, {a.title()}\")\n",
    "    print(f\"i am waiting to receive your submisson of today, {a.title()}\\n\")\n",
    "print(f\"thanks you all for attending the python session\")"
   ]
  },
  {
   "cell_type": "code",
   "execution_count": null,
   "id": "e382483b-a9ee-43f7-ac71-b6eef98598f3",
   "metadata": {},
   "outputs": [],
   "source": []
  },
  {
   "cell_type": "code",
   "execution_count": null,
   "id": "eba6cd3d-d2e0-45d4-bd98-3d7a302a0130",
   "metadata": {},
   "outputs": [],
   "source": []
  },
  {
   "cell_type": "code",
   "execution_count": null,
   "id": "178b4b4a-7f0f-4728-b5b1-63820a91a023",
   "metadata": {},
   "outputs": [],
   "source": []
  },
  {
   "cell_type": "code",
   "execution_count": null,
   "id": "87d0ba75-d3bc-438d-815e-34a7bb100ca0",
   "metadata": {},
   "outputs": [],
   "source": []
  },
  {
   "cell_type": "code",
   "execution_count": null,
   "id": "90aba645-ddac-4788-bd13-5027596bfb4c",
   "metadata": {},
   "outputs": [],
   "source": []
  },
  {
   "cell_type": "code",
   "execution_count": null,
   "id": "d59f3164-1846-45db-9903-55441399e540",
   "metadata": {},
   "outputs": [],
   "source": []
  },
  {
   "cell_type": "code",
   "execution_count": null,
   "id": "ad9aae08-c491-4b51-80be-63cc10de7e43",
   "metadata": {},
   "outputs": [],
   "source": []
  },
  {
   "cell_type": "code",
   "execution_count": null,
   "id": "623b9176-6b26-4c4f-b591-d1008c0e7e24",
   "metadata": {},
   "outputs": [],
   "source": []
  },
  {
   "cell_type": "code",
   "execution_count": null,
   "id": "a075c2e7-dce1-4d27-b96c-07081b9bc453",
   "metadata": {},
   "outputs": [],
   "source": []
  },
  {
   "cell_type": "code",
   "execution_count": null,
   "id": "81ef84ec-f9f1-430f-bd50-3cca77433704",
   "metadata": {},
   "outputs": [],
   "source": []
  },
  {
   "cell_type": "code",
   "execution_count": null,
   "id": "dc351cc4-f80e-4e80-9026-6495f96b5d3a",
   "metadata": {},
   "outputs": [],
   "source": []
  }
 ],
 "metadata": {
  "kernelspec": {
   "display_name": "Python 3 (ipykernel)",
   "language": "python",
   "name": "python3"
  },
  "language_info": {
   "codemirror_mode": {
    "name": "ipython",
    "version": 3
   },
   "file_extension": ".py",
   "mimetype": "text/x-python",
   "name": "python",
   "nbconvert_exporter": "python",
   "pygments_lexer": "ipython3",
   "version": "3.13.5"
  }
 },
 "nbformat": 4,
 "nbformat_minor": 5
}
