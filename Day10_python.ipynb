{
 "cells": [
  {
   "cell_type": "code",
   "execution_count": 1,
   "id": "7b0cdd86-9103-4722-800c-b1c89fb8f791",
   "metadata": {},
   "outputs": [],
   "source": [
    "def describe_pet(animal_type,pet_name):\n",
    "    \"\"\"describe the information about the pet\"\"\"\n",
    "    print(f\"\\nI have a {animal_type}\")\n",
    "    print(f\"my {animal_type}'s name is {pet_name}\")"
   ]
  },
  {
   "cell_type": "code",
   "execution_count": 2,
   "id": "65883587-78b8-4a36-b663-ca82c899cb61",
   "metadata": {},
   "outputs": [
    {
     "name": "stdout",
     "output_type": "stream",
     "text": [
      "\n",
      "I have a dog\n",
      "my dog's name is bruno\n"
     ]
    }
   ],
   "source": [
    "describe_pet('dog','bruno')"
   ]
  },
  {
   "cell_type": "code",
   "execution_count": 3,
   "id": "854bb5cc-07be-40ab-9ec6-4b87307def13",
   "metadata": {},
   "outputs": [
    {
     "ename": "TypeError",
     "evalue": "describe_pet() missing 1 required positional argument: 'pet_name'",
     "output_type": "error",
     "traceback": [
      "\u001b[1;31m---------------------------------------------------------------------------\u001b[0m",
      "\u001b[1;31mTypeError\u001b[0m                                 Traceback (most recent call last)",
      "Cell \u001b[1;32mIn[3], line 1\u001b[0m\n\u001b[1;32m----> 1\u001b[0m describe_pet(\u001b[38;5;124m'\u001b[39m\u001b[38;5;124mrex\u001b[39m\u001b[38;5;124m'\u001b[39m)\n",
      "\u001b[1;31mTypeError\u001b[0m: describe_pet() missing 1 required positional argument: 'pet_name'"
     ]
    }
   ],
   "source": [
    "describe_pet('rex')"
   ]
  },
  {
   "cell_type": "code",
   "execution_count": 4,
   "id": "8e956b71-e445-4f4d-849f-1bb24f540b6c",
   "metadata": {},
   "outputs": [],
   "source": [
    "def describe_pet(pet_name, animal_type = 'dog'): # default value as dog \n",
    "    \"\"\"describe the information about the pet\"\"\"\n",
    "    print(f\"\\nI have a {animal_type}\")\n",
    "    print(f\"my {animal_type}'s name is {pet_name}\")"
   ]
  },
  {
   "cell_type": "code",
   "execution_count": 5,
   "id": "c6137117-5021-47b4-8113-025e5fcbd695",
   "metadata": {},
   "outputs": [
    {
     "name": "stdout",
     "output_type": "stream",
     "text": [
      "\n",
      "I have a dog\n",
      "my dog's name is rex\n"
     ]
    }
   ],
   "source": [
    "describe_pet('rex')"
   ]
  },
  {
   "cell_type": "code",
   "execution_count": null,
   "id": "7883a979-638d-4b04-9884-7ecc1bf34b34",
   "metadata": {},
   "outputs": [],
   "source": [
    "# Returing a simple value "
   ]
  },
  {
   "cell_type": "code",
   "execution_count": null,
   "id": "8d445a72-849e-4177-90f3-d2378a37de64",
   "metadata": {},
   "outputs": [],
   "source": [
    "# req : take a fisrtname and lastname aand return it with a neatly formatted name..."
   ]
  },
  {
   "cell_type": "code",
   "execution_count": 13,
   "id": "a733f39f-b781-40ae-af3b-c7f3a4ebc238",
   "metadata": {},
   "outputs": [],
   "source": [
    "def get_formatted_name(first_name,last_name):\n",
    "    \"\"\"return a fullname, neatly formatted\"\"\"\n",
    "    full_name = f\"{first_name} {last_name}\"\n",
    "    return full_name.title()"
   ]
  },
  {
   "cell_type": "code",
   "execution_count": 14,
   "id": "decb7086-80e3-4e3c-9971-4d6138822ff0",
   "metadata": {},
   "outputs": [
    {
     "name": "stdout",
     "output_type": "stream",
     "text": [
      "Shaik Maktum\n"
     ]
    }
   ],
   "source": [
    "person = get_formatted_name('shaik','maktum')\n",
    "print(person)"
   ]
  },
  {
   "cell_type": "code",
   "execution_count": null,
   "id": "d277182f-d09e-4f39-a2c3-a4ee147391f4",
   "metadata": {},
   "outputs": [],
   "source": []
  },
  {
   "cell_type": "code",
   "execution_count": null,
   "id": "c0bdeabe-182b-4a59-b6a6-0506c004c665",
   "metadata": {},
   "outputs": [],
   "source": [
    "# passing the arbitary no.of arguments"
   ]
  },
  {
   "cell_type": "code",
   "execution_count": 20,
   "id": "f44c1757-06d4-4cc4-84c6-beb514b34df3",
   "metadata": {},
   "outputs": [],
   "source": [
    "def make_pizza(*toppings):  # * indicate no. of arguments\n",
    "    \"\"\"print the list of the toppings that have been requested\"\"\"\n",
    "    print(toppings)"
   ]
  },
  {
   "cell_type": "code",
   "execution_count": 18,
   "id": "2f3e000f-0c83-45fa-bcc9-c1a79d91a4fa",
   "metadata": {},
   "outputs": [
    {
     "name": "stdout",
     "output_type": "stream",
     "text": [
      "olives\n"
     ]
    }
   ],
   "source": [
    " make_pizza('olives')"
   ]
  },
  {
   "cell_type": "code",
   "execution_count": 21,
   "id": "c2260f99-59fe-4c8c-b0f7-e95b3852331f",
   "metadata": {},
   "outputs": [
    {
     "name": "stdout",
     "output_type": "stream",
     "text": [
      "('olives', 'corn')\n"
     ]
    }
   ],
   "source": [
    " make_pizza('olives','corn')"
   ]
  },
  {
   "cell_type": "code",
   "execution_count": null,
   "id": "10f2e791-f5ec-4b3e-be9c-2574cec941ee",
   "metadata": {},
   "outputs": [],
   "source": [
    " make_pizza('olives')"
   ]
  },
  {
   "cell_type": "code",
   "execution_count": 23,
   "id": "217c0fb6-aa58-4df9-9e12-5ecacf830730",
   "metadata": {},
   "outputs": [
    {
     "name": "stdout",
     "output_type": "stream",
     "text": [
      "('olives', 'corn', 'onion')\n"
     ]
    }
   ],
   "source": [
    " make_pizza('olives','corn','onion')"
   ]
  },
  {
   "cell_type": "code",
   "execution_count": 27,
   "id": "57b0b111-bb5e-4afa-8557-936af14b4c15",
   "metadata": {},
   "outputs": [],
   "source": [
    "def make_pizza(*toppings):  # * indicate no. of arguments\n",
    "    \"\"\"print the list of the toppings that have been requested\"\"\"\n",
    "    print(\"\\nMaking the pizza with the below toppings\")\n",
    "    for a in toppings:\n",
    "        print(f\"-{a}\")"
   ]
  },
  {
   "cell_type": "code",
   "execution_count": 28,
   "id": "649b26bc-9119-4b5b-accc-c1bfceeb4d95",
   "metadata": {},
   "outputs": [
    {
     "name": "stdout",
     "output_type": "stream",
     "text": [
      "\n",
      "Making the pizza with the below toppings\n",
      "-olives\n",
      "-corn\n",
      "-onion\n"
     ]
    }
   ],
   "source": [
    " make_pizza('olives','corn','onion')"
   ]
  },
  {
   "cell_type": "code",
   "execution_count": null,
   "id": "80306f84-efe8-4358-a0b6-eecf9dd6edd1",
   "metadata": {},
   "outputs": [],
   "source": [
    "# Mixing the positional and arbitary arguments "
   ]
  },
  {
   "cell_type": "code",
   "execution_count": 30,
   "id": "0d1762dc-dc14-4d5f-8e26-2e63d63313e3",
   "metadata": {},
   "outputs": [],
   "source": [
    "def make_pizza(size,*toppings):\n",
    "    \"\"\" summarize the pizza that i wantnto make \"\"\"\n",
    "    print(f\"\\nMaking a {size} inch pizza with the below toppings:\")\n",
    "    for a in toppings:\n",
    "        print(f\"-{a}\")"
   ]
  },
  {
   "cell_type": "code",
   "execution_count": 33,
   "id": "6a5fd0e0-dbdf-4f21-9049-b4e9e49b5853",
   "metadata": {},
   "outputs": [
    {
     "name": "stdout",
     "output_type": "stream",
     "text": [
      "\n",
      "Making a 12 inch pizza with the below toppings:\n",
      "-olives\n",
      "-corn\n",
      "-onion\n"
     ]
    }
   ],
   "source": [
    " make_pizza('12','olives','corn','onion')"
   ]
  },
  {
   "cell_type": "code",
   "execution_count": null,
   "id": "b31d5294-a74f-440a-9b4f-dc21ab8d489a",
   "metadata": {},
   "outputs": [],
   "source": []
  },
  {
   "cell_type": "code",
   "execution_count": null,
   "id": "4561dae8-8c41-45a6-8903-bac4b4897b6a",
   "metadata": {},
   "outputs": [],
   "source": []
  },
  {
   "cell_type": "code",
   "execution_count": null,
   "id": "5b2b7b9f-2666-45c4-ae5f-72b257730c6e",
   "metadata": {},
   "outputs": [],
   "source": []
  },
  {
   "cell_type": "code",
   "execution_count": null,
   "id": "e7886b1a-850c-4d72-a391-d1c40843f61f",
   "metadata": {},
   "outputs": [],
   "source": []
  }
 ],
 "metadata": {
  "kernelspec": {
   "display_name": "Python 3 (ipykernel)",
   "language": "python",
   "name": "python3"
  },
  "language_info": {
   "codemirror_mode": {
    "name": "ipython",
    "version": 3
   },
   "file_extension": ".py",
   "mimetype": "text/x-python",
   "name": "python",
   "nbconvert_exporter": "python",
   "pygments_lexer": "ipython3",
   "version": "3.13.5"
  }
 },
 "nbformat": 4,
 "nbformat_minor": 5
}
